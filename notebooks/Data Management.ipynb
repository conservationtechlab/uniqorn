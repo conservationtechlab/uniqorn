{
 "cells": [
  {
   "cell_type": "code",
   "execution_count": 2,
   "id": "d1984120",
   "metadata": {},
   "outputs": [],
   "source": [
    "import pandas as pd\n",
    "from tqdm import tqdm\n",
    "import shutil\n",
    "import numpy as np"
   ]
  },
  {
   "cell_type": "code",
   "execution_count": 3,
   "id": "ec5d54e9",
   "metadata": {},
   "outputs": [],
   "source": [
    "trainingdata = pd.read_csv(\"/home/kyra/Desktop/Data/Jaguar/train.csv\") #1157\n",
    "testdata = pd.read_csv(\"/home/kyra/Desktop/Data/Jaguar/test.csv\") #139\n",
    "validatadata = pd.read_csv(\"/home/kyra/Desktop/Data/Jaguar/validate.csv\") #95"
   ]
  },
  {
   "cell_type": "code",
   "execution_count": 33,
   "id": "5f779ea1",
   "metadata": {},
   "outputs": [],
   "source": [
    "alldata = pd.concat([trainingdata,testdata,validatadata])"
   ]
  },
  {
   "cell_type": "code",
   "execution_count": 30,
   "id": "85d120e2",
   "metadata": {},
   "outputs": [
    {
     "data": {
      "text/plain": [
       "Index(['Frame', 'CaptureID', 'SurveyID', 'StationID', 'Survey.Name',\n",
       "       'SpeciesID', 'Common', 'Species', 'Date', 'Time', 'DayNight', 'X', 'Y',\n",
       "       'Elevation', 'Habitat', 'Group1', 'Group2', 'Sex', 'Individuals',\n",
       "       'StationID.1', 'CamNumber1', 'CamNumber2', 'Independent', 'Code',\n",
       "       'IndividualSex', 'Image', 'LeftImage', 'MaxMDConfidence', 'MaxCategory',\n",
       "       'category', 'conf', 'bbox1', 'bbox2', 'bbox3', 'bbox4', 'image_path',\n",
       "       'crop_rel_path', 'max_conf', 'crop_path', 'UID', 'local_path', 'height',\n",
       "       'width', 'mask_path', 'pose_path', 'FileName'],\n",
       "      dtype='object')"
      ]
     },
     "execution_count": 30,
     "metadata": {},
     "output_type": "execute_result"
    }
   ],
   "source": [
    "trainingdata.columns"
   ]
  },
  {
   "cell_type": "code",
   "execution_count": 43,
   "id": "12a280df",
   "metadata": {},
   "outputs": [
    {
     "data": {
      "text/plain": [
       "'31.10.2009'"
      ]
     },
     "execution_count": 43,
     "metadata": {},
     "output_type": "execute_result"
    }
   ],
   "source": [
    "trainingdata[\"Date\"].max()"
   ]
  },
  {
   "cell_type": "code",
   "execution_count": 40,
   "id": "cf23598c",
   "metadata": {},
   "outputs": [
    {
     "data": {
      "text/plain": [
       "409697    78\n",
       "414713    77\n",
       "407347    75\n",
       "429883    71\n",
       "415085    69\n",
       "          ..\n",
       "418741     1\n",
       "405900     1\n",
       "406345     1\n",
       "404043     1\n",
       "385626     1\n",
       "Name: X, Length: 103, dtype: int64"
      ]
     },
     "execution_count": 40,
     "metadata": {},
     "output_type": "execute_result"
    }
   ],
   "source": [
    "alldata[\"X\"].value_counts()"
   ]
  },
  {
   "cell_type": "code",
   "execution_count": 21,
   "id": "8f30b52d",
   "metadata": {},
   "outputs": [
    {
     "data": {
      "text/plain": [
       "37"
      ]
     },
     "execution_count": 21,
     "metadata": {},
     "output_type": "execute_result"
    }
   ],
   "source": [
    "len(testdata[~testdata[\"UID\"].isin([19,13,12,22])][\"CaptureID\"].value_counts())"
   ]
  },
  {
   "cell_type": "code",
   "execution_count": 20,
   "id": "c603bef5",
   "metadata": {
    "scrolled": true
   },
   "outputs": [
    {
     "data": {
      "text/plain": [
       "0       0\n",
       "1       1\n",
       "2       1\n",
       "3       0\n",
       "4       0\n",
       "       ..\n",
       "1152    1\n",
       "1153    0\n",
       "1154    1\n",
       "1155    1\n",
       "1156    0\n",
       "Name: LeftImage, Length: 1157, dtype: int64"
      ]
     },
     "execution_count": 20,
     "metadata": {},
     "output_type": "execute_result"
    }
   ],
   "source": [
    "trainingdata['LeftImage']"
   ]
  },
  {
   "cell_type": "code",
   "execution_count": 29,
   "id": "fbfbb7b9",
   "metadata": {},
   "outputs": [],
   "source": [
    "pose = ['Right','Left']"
   ]
  },
  {
   "cell_type": "code",
   "execution_count": 43,
   "id": "cfe93c04",
   "metadata": {},
   "outputs": [
    {
     "name": "stderr",
     "output_type": "stream",
     "text": [
      "1157it [00:00, 4381.94it/s]\n"
     ]
    }
   ],
   "source": [
    "for i, row in tqdm(trainingdata.iterrows()):\n",
    "    path = row['mask_path']\n",
    "    posepath = os.path.basename(path)\n",
    "    \n",
    "    trainingdata.loc[i,'FileName'] = posepath\n",
    "    shutil.copy(path,posepath)\n",
    "    \n"
   ]
  },
  {
   "cell_type": "code",
   "execution_count": 17,
   "id": "c3eeaa8b",
   "metadata": {
    "scrolled": true
   },
   "outputs": [],
   "source": [
    "validatadata = validatadata.drop(columns = ['Unnamed: 0'])"
   ]
  },
  {
   "cell_type": "code",
   "execution_count": 18,
   "id": "063a7ee2",
   "metadata": {},
   "outputs": [],
   "source": [
    "validatadata = validatadata.drop_duplicates(subset=['image_path'])"
   ]
  },
  {
   "cell_type": "code",
   "execution_count": 37,
   "id": "4207db88",
   "metadata": {},
   "outputs": [],
   "source": [
    "validatadata[\"image_path\"] = validatadata[\"image_path\"].str.replace('S:/Camera Base MT/','/home/kyra/Desktop/Data/Jaguar/')\n"
   ]
  },
  {
   "cell_type": "code",
   "execution_count": 117,
   "id": "7fc905c2",
   "metadata": {},
   "outputs": [],
   "source": [
    "trainingdata.to_csv(\"/home/kyra/Desktop/Data/Jaguar/train.csv\",index=False)"
   ]
  },
  {
   "cell_type": "code",
   "execution_count": 115,
   "id": "bcf4c9a2",
   "metadata": {},
   "outputs": [],
   "source": [
    "testdata.to_csv(\"/home/kyra/Desktop/Data/Jaguar/test.csv\",index=False)"
   ]
  },
  {
   "cell_type": "code",
   "execution_count": 113,
   "id": "c1d9f646",
   "metadata": {},
   "outputs": [],
   "source": [
    "validatadata.to_csv(\"/home/kyra/Desktop/Data/Jaguar/validate.csv\",index=False)"
   ]
  },
  {
   "cell_type": "code",
   "execution_count": 92,
   "id": "5a5623ea",
   "metadata": {},
   "outputs": [
    {
     "data": {
      "text/plain": [
       "0         SDZG  125_20140726_134505.png\n",
       "1     SDZG  125_20140726_134505_001.png\n",
       "2         SDZG  125_20140726_134506.png\n",
       "3         SDZG  129_20141009_045933.png\n",
       "4         SDZG  129_20141009_045934.png\n",
       "                    ...                \n",
       "90           Areas 15_20071101_1557.png\n",
       "91            Areas 3_20070904_2012.png\n",
       "92           Areas 39_20070922_2219.png\n",
       "93           Areas 39_20070923_0357.png\n",
       "94            Areas 6_20071002_1955.png\n",
       "Name: FileName, Length: 95, dtype: object"
      ]
     },
     "execution_count": 92,
     "metadata": {},
     "output_type": "execute_result"
    }
   ],
   "source": [
    "validatadata['FileName']"
   ]
  },
  {
   "cell_type": "code",
   "execution_count": 85,
   "id": "92a14a07",
   "metadata": {},
   "outputs": [],
   "source": [
    "import os\n",
    "\n",
    "segments = []\n",
    "\n",
    "for root, dirs, files in os.walk(\"/home/kyra/Desktop/Data/Jaguar/Pose\", topdown=False):\n",
    "    for name in files:\n",
    "        segments.append(os.path.join(root, name))\n",
    "        \n",
    "segments = np.asarray(segments)"
   ]
  },
  {
   "cell_type": "code",
   "execution_count": 86,
   "id": "cd6fc0c2",
   "metadata": {
    "scrolled": true
   },
   "outputs": [
    {
     "data": {
      "text/plain": [
       "array(['/home/kyra/Desktop/Data/Jaguar/Pose/Right/SDZG 162_20140908_185650.png',\n",
       "       '/home/kyra/Desktop/Data/Jaguar/Pose/Right/SDZG  199_20140902_092456.png',\n",
       "       '/home/kyra/Desktop/Data/Jaguar/Pose/Right/SDZG 196_20140903_193333_001.png',\n",
       "       ...,\n",
       "       '/home/kyra/Desktop/Data/Jaguar/Pose/Left/SDZG  189_20140818_221520_001.png',\n",
       "       '/home/kyra/Desktop/Data/Jaguar/Pose/Left/R05_REBG57_20161107_003820_11070202.png',\n",
       "       '/home/kyra/Desktop/Data/Jaguar/Pose/Left/SDZG  129_20141009_045933.png'],\n",
       "      dtype='<U81')"
      ]
     },
     "execution_count": 86,
     "metadata": {},
     "output_type": "execute_result"
    }
   ],
   "source": [
    "segments"
   ]
  },
  {
   "cell_type": "code",
   "execution_count": 99,
   "id": "1bfd8cb6",
   "metadata": {},
   "outputs": [
    {
     "data": {
      "text/plain": [
       "'Right'"
      ]
     },
     "execution_count": 99,
     "metadata": {},
     "output_type": "execute_result"
    }
   ],
   "source": [
    "segments[0]"
   ]
  },
  {
   "cell_type": "code",
   "execution_count": 116,
   "id": "5a5b3be1",
   "metadata": {
    "scrolled": true
   },
   "outputs": [],
   "source": [
    "for i,f in enumerate(segments):\n",
    "    row = trainingdata[trainingdata['FileName'] == os.path.basename(f)]\n",
    "    if not row.empty:\n",
    "        r = row.index[0]\n",
    "        pose = f.split(os.sep)[-2]\n",
    "       # print(pose)\n",
    "        trainingdata.loc[r,'pose_path'] = f\n",
    "        trainingdata.loc[r,'LeftImage'] = 0 if pose == 'Right' else 1"
   ]
  },
  {
   "cell_type": "code",
   "execution_count": 112,
   "id": "e3fd4ed3",
   "metadata": {},
   "outputs": [
    {
     "data": {
      "text/html": [
       "<div>\n",
       "<style scoped>\n",
       "    .dataframe tbody tr th:only-of-type {\n",
       "        vertical-align: middle;\n",
       "    }\n",
       "\n",
       "    .dataframe tbody tr th {\n",
       "        vertical-align: top;\n",
       "    }\n",
       "\n",
       "    .dataframe thead th {\n",
       "        text-align: right;\n",
       "    }\n",
       "</style>\n",
       "<table border=\"1\" class=\"dataframe\">\n",
       "  <thead>\n",
       "    <tr style=\"text-align: right;\">\n",
       "      <th></th>\n",
       "      <th>Frame</th>\n",
       "      <th>CaptureID</th>\n",
       "      <th>SurveyID</th>\n",
       "      <th>StationID</th>\n",
       "      <th>Survey.Name</th>\n",
       "      <th>SpeciesID</th>\n",
       "      <th>Common</th>\n",
       "      <th>Species</th>\n",
       "      <th>Date</th>\n",
       "      <th>Time</th>\n",
       "      <th>...</th>\n",
       "      <th>crop_rel_path</th>\n",
       "      <th>max_conf</th>\n",
       "      <th>crop_path</th>\n",
       "      <th>UID</th>\n",
       "      <th>mask_path</th>\n",
       "      <th>local_path</th>\n",
       "      <th>height</th>\n",
       "      <th>width</th>\n",
       "      <th>pose_path</th>\n",
       "      <th>FileName</th>\n",
       "    </tr>\n",
       "  </thead>\n",
       "  <tbody>\n",
       "    <tr>\n",
       "      <th>0</th>\n",
       "      <td>S:/Camera Base MT/Images/14/SDZG  125_20140726...</td>\n",
       "      <td>102353</td>\n",
       "      <td>14</td>\n",
       "      <td>473</td>\n",
       "      <td>Espinoza 2014</td>\n",
       "      <td>2</td>\n",
       "      <td>Jaguar</td>\n",
       "      <td>Panthera onca</td>\n",
       "      <td>26.07.2014</td>\n",
       "      <td>1899-12-30 13:45:42</td>\n",
       "      <td>...</td>\n",
       "      <td>/14/</td>\n",
       "      <td>0.937475</td>\n",
       "      <td>/home/kyra/Desktop/Data/Jaguar/Crops/14/SDZG  ...</td>\n",
       "      <td>27</td>\n",
       "      <td>/home/kyra/Desktop/Data/Jaguar/Masked/14/SDZG ...</td>\n",
       "      <td>/home/kyra/Desktop/Data/Jaguar/Images/14/SDZG ...</td>\n",
       "      <td>2448</td>\n",
       "      <td>3264</td>\n",
       "      <td>/home/kyra/Desktop/Data/Jaguar/Pose/Right/SDZG...</td>\n",
       "      <td>SDZG  125_20140726_134505.png</td>\n",
       "    </tr>\n",
       "    <tr>\n",
       "      <th>1</th>\n",
       "      <td>S:/Camera Base MT/Images/14/SDZG  125_20140726...</td>\n",
       "      <td>102354</td>\n",
       "      <td>14</td>\n",
       "      <td>473</td>\n",
       "      <td>Espinoza 2014</td>\n",
       "      <td>2</td>\n",
       "      <td>Jaguar</td>\n",
       "      <td>Panthera onca</td>\n",
       "      <td>26.07.2014</td>\n",
       "      <td>1899-12-30 13:45:42</td>\n",
       "      <td>...</td>\n",
       "      <td>/14/</td>\n",
       "      <td>0.949219</td>\n",
       "      <td>/home/kyra/Desktop/Data/Jaguar/Crops/14/SDZG  ...</td>\n",
       "      <td>27</td>\n",
       "      <td>/home/kyra/Desktop/Data/Jaguar/Masked/14/SDZG ...</td>\n",
       "      <td>/home/kyra/Desktop/Data/Jaguar/Images/14/SDZG ...</td>\n",
       "      <td>2448</td>\n",
       "      <td>3264</td>\n",
       "      <td>/home/kyra/Desktop/Data/Jaguar/Pose/Right/SDZG...</td>\n",
       "      <td>SDZG  125_20140726_134505_001.png</td>\n",
       "    </tr>\n",
       "    <tr>\n",
       "      <th>2</th>\n",
       "      <td>S:/Camera Base MT/Images/14/SDZG  125_20140726...</td>\n",
       "      <td>102355</td>\n",
       "      <td>14</td>\n",
       "      <td>473</td>\n",
       "      <td>Espinoza 2014</td>\n",
       "      <td>2</td>\n",
       "      <td>Jaguar</td>\n",
       "      <td>Panthera onca</td>\n",
       "      <td>26.07.2014</td>\n",
       "      <td>1899-12-30 13:45:43</td>\n",
       "      <td>...</td>\n",
       "      <td>/14/</td>\n",
       "      <td>0.957552</td>\n",
       "      <td>/home/kyra/Desktop/Data/Jaguar/Crops/14/SDZG  ...</td>\n",
       "      <td>27</td>\n",
       "      <td>/home/kyra/Desktop/Data/Jaguar/Masked/14/SDZG ...</td>\n",
       "      <td>/home/kyra/Desktop/Data/Jaguar/Images/14/SDZG ...</td>\n",
       "      <td>2448</td>\n",
       "      <td>3264</td>\n",
       "      <td>/home/kyra/Desktop/Data/Jaguar/Pose/Right/SDZG...</td>\n",
       "      <td>SDZG  125_20140726_134506.png</td>\n",
       "    </tr>\n",
       "    <tr>\n",
       "      <th>3</th>\n",
       "      <td>S:/Camera Base MT/Images/14/SDZG  129_20141009...</td>\n",
       "      <td>74700</td>\n",
       "      <td>14</td>\n",
       "      <td>475</td>\n",
       "      <td>Espinoza 2014</td>\n",
       "      <td>2</td>\n",
       "      <td>Jaguar</td>\n",
       "      <td>Panthera onca</td>\n",
       "      <td>09.10.2014</td>\n",
       "      <td>1899-12-30 04:59:00</td>\n",
       "      <td>...</td>\n",
       "      <td>/14/</td>\n",
       "      <td>0.912568</td>\n",
       "      <td>/home/kyra/Desktop/Data/Jaguar/Crops/14/SDZG  ...</td>\n",
       "      <td>27</td>\n",
       "      <td>/home/kyra/Desktop/Data/Jaguar/Masked/14/SDZG ...</td>\n",
       "      <td>/home/kyra/Desktop/Data/Jaguar/Images/14/SDZG ...</td>\n",
       "      <td>2448</td>\n",
       "      <td>3264</td>\n",
       "      <td>/home/kyra/Desktop/Data/Jaguar/Pose/Left/SDZG ...</td>\n",
       "      <td>SDZG  129_20141009_045933.png</td>\n",
       "    </tr>\n",
       "    <tr>\n",
       "      <th>4</th>\n",
       "      <td>S:/Camera Base MT/Images/14/SDZG  129_20141009...</td>\n",
       "      <td>74701</td>\n",
       "      <td>14</td>\n",
       "      <td>475</td>\n",
       "      <td>Espinoza 2014</td>\n",
       "      <td>2</td>\n",
       "      <td>Jaguar</td>\n",
       "      <td>Panthera onca</td>\n",
       "      <td>09.10.2014</td>\n",
       "      <td>1899-12-30 04:59:01</td>\n",
       "      <td>...</td>\n",
       "      <td>/14/</td>\n",
       "      <td>0.920845</td>\n",
       "      <td>/home/kyra/Desktop/Data/Jaguar/Crops/14/SDZG  ...</td>\n",
       "      <td>27</td>\n",
       "      <td>/home/kyra/Desktop/Data/Jaguar/Masked/14/SDZG ...</td>\n",
       "      <td>/home/kyra/Desktop/Data/Jaguar/Images/14/SDZG ...</td>\n",
       "      <td>2448</td>\n",
       "      <td>3264</td>\n",
       "      <td>/home/kyra/Desktop/Data/Jaguar/Pose/Left/SDZG ...</td>\n",
       "      <td>SDZG  129_20141009_045934.png</td>\n",
       "    </tr>\n",
       "    <tr>\n",
       "      <th>...</th>\n",
       "      <td>...</td>\n",
       "      <td>...</td>\n",
       "      <td>...</td>\n",
       "      <td>...</td>\n",
       "      <td>...</td>\n",
       "      <td>...</td>\n",
       "      <td>...</td>\n",
       "      <td>...</td>\n",
       "      <td>...</td>\n",
       "      <td>...</td>\n",
       "      <td>...</td>\n",
       "      <td>...</td>\n",
       "      <td>...</td>\n",
       "      <td>...</td>\n",
       "      <td>...</td>\n",
       "      <td>...</td>\n",
       "      <td>...</td>\n",
       "      <td>...</td>\n",
       "      <td>...</td>\n",
       "      <td>...</td>\n",
       "      <td>...</td>\n",
       "    </tr>\n",
       "    <tr>\n",
       "      <th>90</th>\n",
       "      <td>S:/Camera Base MT/Images/4/Areas 15_20071101_1...</td>\n",
       "      <td>3505</td>\n",
       "      <td>4</td>\n",
       "      <td>110</td>\n",
       "      <td>Los Amigos 2007</td>\n",
       "      <td>2</td>\n",
       "      <td>Jaguar</td>\n",
       "      <td>Panthera onca</td>\n",
       "      <td>01.11.2007</td>\n",
       "      <td>1899-12-30 15:57:00</td>\n",
       "      <td>...</td>\n",
       "      <td>/4/</td>\n",
       "      <td>0.867164</td>\n",
       "      <td>/home/kyra/Desktop/Data/Jaguar/Crops/4/Areas 1...</td>\n",
       "      <td>75</td>\n",
       "      <td>/home/kyra/Desktop/Data/Jaguar/Masked/4/Areas ...</td>\n",
       "      <td>/home/kyra/Desktop/Data/Jaguar/Images/4/Areas ...</td>\n",
       "      <td>1228</td>\n",
       "      <td>1818</td>\n",
       "      <td>/home/kyra/Desktop/Data/Jaguar/Pose/Left/Areas...</td>\n",
       "      <td>Areas 15_20071101_1557.png</td>\n",
       "    </tr>\n",
       "    <tr>\n",
       "      <th>91</th>\n",
       "      <td>S:/Camera Base MT/Images/4/Areas 3_20070904_20...</td>\n",
       "      <td>3622</td>\n",
       "      <td>4</td>\n",
       "      <td>145</td>\n",
       "      <td>Los Amigos 2007</td>\n",
       "      <td>2</td>\n",
       "      <td>Jaguar</td>\n",
       "      <td>Panthera onca</td>\n",
       "      <td>04.09.2007</td>\n",
       "      <td>1899-12-30 20:12:00</td>\n",
       "      <td>...</td>\n",
       "      <td>/4/</td>\n",
       "      <td>0.973747</td>\n",
       "      <td>/home/kyra/Desktop/Data/Jaguar/Crops/4/Areas 3...</td>\n",
       "      <td>75</td>\n",
       "      <td>/home/kyra/Desktop/Data/Jaguar/Masked/4/Areas ...</td>\n",
       "      <td>/home/kyra/Desktop/Data/Jaguar/Images/4/Areas ...</td>\n",
       "      <td>1228</td>\n",
       "      <td>1818</td>\n",
       "      <td>/home/kyra/Desktop/Data/Jaguar/Pose/Left/Areas...</td>\n",
       "      <td>Areas 3_20070904_2012.png</td>\n",
       "    </tr>\n",
       "    <tr>\n",
       "      <th>92</th>\n",
       "      <td>S:/Camera Base MT/Images/4/Areas 39_20070922_2...</td>\n",
       "      <td>3337</td>\n",
       "      <td>4</td>\n",
       "      <td>142</td>\n",
       "      <td>Los Amigos 2007</td>\n",
       "      <td>2</td>\n",
       "      <td>Jaguar</td>\n",
       "      <td>Panthera onca</td>\n",
       "      <td>22.09.2007</td>\n",
       "      <td>1899-12-30 22:19:00</td>\n",
       "      <td>...</td>\n",
       "      <td>/4/</td>\n",
       "      <td>0.960536</td>\n",
       "      <td>/home/kyra/Desktop/Data/Jaguar/Crops/4/Areas 3...</td>\n",
       "      <td>75</td>\n",
       "      <td>/home/kyra/Desktop/Data/Jaguar/Masked/4/Areas ...</td>\n",
       "      <td>/home/kyra/Desktop/Data/Jaguar/Images/4/Areas ...</td>\n",
       "      <td>1228</td>\n",
       "      <td>1818</td>\n",
       "      <td>/home/kyra/Desktop/Data/Jaguar/Pose/Left/Areas...</td>\n",
       "      <td>Areas 39_20070922_2219.png</td>\n",
       "    </tr>\n",
       "    <tr>\n",
       "      <th>93</th>\n",
       "      <td>S:/Camera Base MT/Images/4/Areas 39_20070923_0...</td>\n",
       "      <td>3338</td>\n",
       "      <td>4</td>\n",
       "      <td>142</td>\n",
       "      <td>Los Amigos 2007</td>\n",
       "      <td>2</td>\n",
       "      <td>Jaguar</td>\n",
       "      <td>Panthera onca</td>\n",
       "      <td>23.09.2007</td>\n",
       "      <td>1899-12-30 03:57:00</td>\n",
       "      <td>...</td>\n",
       "      <td>/4/</td>\n",
       "      <td>0.970124</td>\n",
       "      <td>/home/kyra/Desktop/Data/Jaguar/Crops/4/Areas 3...</td>\n",
       "      <td>75</td>\n",
       "      <td>/home/kyra/Desktop/Data/Jaguar/Masked/4/Areas ...</td>\n",
       "      <td>/home/kyra/Desktop/Data/Jaguar/Images/4/Areas ...</td>\n",
       "      <td>1228</td>\n",
       "      <td>1818</td>\n",
       "      <td>/home/kyra/Desktop/Data/Jaguar/Pose/Right/Area...</td>\n",
       "      <td>Areas 39_20070923_0357.png</td>\n",
       "    </tr>\n",
       "    <tr>\n",
       "      <th>94</th>\n",
       "      <td>S:/Camera Base MT/Images/4/Areas 6_20071002_19...</td>\n",
       "      <td>3014</td>\n",
       "      <td>4</td>\n",
       "      <td>111</td>\n",
       "      <td>Los Amigos 2007</td>\n",
       "      <td>2</td>\n",
       "      <td>Jaguar</td>\n",
       "      <td>Panthera onca</td>\n",
       "      <td>02.10.2007</td>\n",
       "      <td>1899-12-30 19:55:00</td>\n",
       "      <td>...</td>\n",
       "      <td>/4/</td>\n",
       "      <td>0.976913</td>\n",
       "      <td>/home/kyra/Desktop/Data/Jaguar/Crops/4/Areas 6...</td>\n",
       "      <td>75</td>\n",
       "      <td>/home/kyra/Desktop/Data/Jaguar/Masked/4/Areas ...</td>\n",
       "      <td>/home/kyra/Desktop/Data/Jaguar/Images/4/Areas ...</td>\n",
       "      <td>1228</td>\n",
       "      <td>1818</td>\n",
       "      <td>/home/kyra/Desktop/Data/Jaguar/Pose/Left/Areas...</td>\n",
       "      <td>Areas 6_20071002_1955.png</td>\n",
       "    </tr>\n",
       "  </tbody>\n",
       "</table>\n",
       "<p>95 rows × 46 columns</p>\n",
       "</div>"
      ],
      "text/plain": [
       "                                                Frame  CaptureID  SurveyID  \\\n",
       "0   S:/Camera Base MT/Images/14/SDZG  125_20140726...     102353        14   \n",
       "1   S:/Camera Base MT/Images/14/SDZG  125_20140726...     102354        14   \n",
       "2   S:/Camera Base MT/Images/14/SDZG  125_20140726...     102355        14   \n",
       "3   S:/Camera Base MT/Images/14/SDZG  129_20141009...      74700        14   \n",
       "4   S:/Camera Base MT/Images/14/SDZG  129_20141009...      74701        14   \n",
       "..                                                ...        ...       ...   \n",
       "90  S:/Camera Base MT/Images/4/Areas 15_20071101_1...       3505         4   \n",
       "91  S:/Camera Base MT/Images/4/Areas 3_20070904_20...       3622         4   \n",
       "92  S:/Camera Base MT/Images/4/Areas 39_20070922_2...       3337         4   \n",
       "93  S:/Camera Base MT/Images/4/Areas 39_20070923_0...       3338         4   \n",
       "94  S:/Camera Base MT/Images/4/Areas 6_20071002_19...       3014         4   \n",
       "\n",
       "    StationID      Survey.Name  SpeciesID  Common        Species        Date  \\\n",
       "0         473    Espinoza 2014          2  Jaguar  Panthera onca  26.07.2014   \n",
       "1         473    Espinoza 2014          2  Jaguar  Panthera onca  26.07.2014   \n",
       "2         473    Espinoza 2014          2  Jaguar  Panthera onca  26.07.2014   \n",
       "3         475    Espinoza 2014          2  Jaguar  Panthera onca  09.10.2014   \n",
       "4         475    Espinoza 2014          2  Jaguar  Panthera onca  09.10.2014   \n",
       "..        ...              ...        ...     ...            ...         ...   \n",
       "90        110  Los Amigos 2007          2  Jaguar  Panthera onca  01.11.2007   \n",
       "91        145  Los Amigos 2007          2  Jaguar  Panthera onca  04.09.2007   \n",
       "92        142  Los Amigos 2007          2  Jaguar  Panthera onca  22.09.2007   \n",
       "93        142  Los Amigos 2007          2  Jaguar  Panthera onca  23.09.2007   \n",
       "94        111  Los Amigos 2007          2  Jaguar  Panthera onca  02.10.2007   \n",
       "\n",
       "                   Time  ... crop_rel_path  max_conf  \\\n",
       "0   1899-12-30 13:45:42  ...          /14/  0.937475   \n",
       "1   1899-12-30 13:45:42  ...          /14/  0.949219   \n",
       "2   1899-12-30 13:45:43  ...          /14/  0.957552   \n",
       "3   1899-12-30 04:59:00  ...          /14/  0.912568   \n",
       "4   1899-12-30 04:59:01  ...          /14/  0.920845   \n",
       "..                  ...  ...           ...       ...   \n",
       "90  1899-12-30 15:57:00  ...           /4/  0.867164   \n",
       "91  1899-12-30 20:12:00  ...           /4/  0.973747   \n",
       "92  1899-12-30 22:19:00  ...           /4/  0.960536   \n",
       "93  1899-12-30 03:57:00  ...           /4/  0.970124   \n",
       "94  1899-12-30 19:55:00  ...           /4/  0.976913   \n",
       "\n",
       "                                            crop_path  UID  \\\n",
       "0   /home/kyra/Desktop/Data/Jaguar/Crops/14/SDZG  ...   27   \n",
       "1   /home/kyra/Desktop/Data/Jaguar/Crops/14/SDZG  ...   27   \n",
       "2   /home/kyra/Desktop/Data/Jaguar/Crops/14/SDZG  ...   27   \n",
       "3   /home/kyra/Desktop/Data/Jaguar/Crops/14/SDZG  ...   27   \n",
       "4   /home/kyra/Desktop/Data/Jaguar/Crops/14/SDZG  ...   27   \n",
       "..                                                ...  ...   \n",
       "90  /home/kyra/Desktop/Data/Jaguar/Crops/4/Areas 1...   75   \n",
       "91  /home/kyra/Desktop/Data/Jaguar/Crops/4/Areas 3...   75   \n",
       "92  /home/kyra/Desktop/Data/Jaguar/Crops/4/Areas 3...   75   \n",
       "93  /home/kyra/Desktop/Data/Jaguar/Crops/4/Areas 3...   75   \n",
       "94  /home/kyra/Desktop/Data/Jaguar/Crops/4/Areas 6...   75   \n",
       "\n",
       "                                            mask_path  \\\n",
       "0   /home/kyra/Desktop/Data/Jaguar/Masked/14/SDZG ...   \n",
       "1   /home/kyra/Desktop/Data/Jaguar/Masked/14/SDZG ...   \n",
       "2   /home/kyra/Desktop/Data/Jaguar/Masked/14/SDZG ...   \n",
       "3   /home/kyra/Desktop/Data/Jaguar/Masked/14/SDZG ...   \n",
       "4   /home/kyra/Desktop/Data/Jaguar/Masked/14/SDZG ...   \n",
       "..                                                ...   \n",
       "90  /home/kyra/Desktop/Data/Jaguar/Masked/4/Areas ...   \n",
       "91  /home/kyra/Desktop/Data/Jaguar/Masked/4/Areas ...   \n",
       "92  /home/kyra/Desktop/Data/Jaguar/Masked/4/Areas ...   \n",
       "93  /home/kyra/Desktop/Data/Jaguar/Masked/4/Areas ...   \n",
       "94  /home/kyra/Desktop/Data/Jaguar/Masked/4/Areas ...   \n",
       "\n",
       "                                           local_path height width  \\\n",
       "0   /home/kyra/Desktop/Data/Jaguar/Images/14/SDZG ...   2448  3264   \n",
       "1   /home/kyra/Desktop/Data/Jaguar/Images/14/SDZG ...   2448  3264   \n",
       "2   /home/kyra/Desktop/Data/Jaguar/Images/14/SDZG ...   2448  3264   \n",
       "3   /home/kyra/Desktop/Data/Jaguar/Images/14/SDZG ...   2448  3264   \n",
       "4   /home/kyra/Desktop/Data/Jaguar/Images/14/SDZG ...   2448  3264   \n",
       "..                                                ...    ...   ...   \n",
       "90  /home/kyra/Desktop/Data/Jaguar/Images/4/Areas ...   1228  1818   \n",
       "91  /home/kyra/Desktop/Data/Jaguar/Images/4/Areas ...   1228  1818   \n",
       "92  /home/kyra/Desktop/Data/Jaguar/Images/4/Areas ...   1228  1818   \n",
       "93  /home/kyra/Desktop/Data/Jaguar/Images/4/Areas ...   1228  1818   \n",
       "94  /home/kyra/Desktop/Data/Jaguar/Images/4/Areas ...   1228  1818   \n",
       "\n",
       "                                            pose_path  \\\n",
       "0   /home/kyra/Desktop/Data/Jaguar/Pose/Right/SDZG...   \n",
       "1   /home/kyra/Desktop/Data/Jaguar/Pose/Right/SDZG...   \n",
       "2   /home/kyra/Desktop/Data/Jaguar/Pose/Right/SDZG...   \n",
       "3   /home/kyra/Desktop/Data/Jaguar/Pose/Left/SDZG ...   \n",
       "4   /home/kyra/Desktop/Data/Jaguar/Pose/Left/SDZG ...   \n",
       "..                                                ...   \n",
       "90  /home/kyra/Desktop/Data/Jaguar/Pose/Left/Areas...   \n",
       "91  /home/kyra/Desktop/Data/Jaguar/Pose/Left/Areas...   \n",
       "92  /home/kyra/Desktop/Data/Jaguar/Pose/Left/Areas...   \n",
       "93  /home/kyra/Desktop/Data/Jaguar/Pose/Right/Area...   \n",
       "94  /home/kyra/Desktop/Data/Jaguar/Pose/Left/Areas...   \n",
       "\n",
       "                             FileName  \n",
       "0       SDZG  125_20140726_134505.png  \n",
       "1   SDZG  125_20140726_134505_001.png  \n",
       "2       SDZG  125_20140726_134506.png  \n",
       "3       SDZG  129_20141009_045933.png  \n",
       "4       SDZG  129_20141009_045934.png  \n",
       "..                                ...  \n",
       "90         Areas 15_20071101_1557.png  \n",
       "91          Areas 3_20070904_2012.png  \n",
       "92         Areas 39_20070922_2219.png  \n",
       "93         Areas 39_20070923_0357.png  \n",
       "94          Areas 6_20071002_1955.png  \n",
       "\n",
       "[95 rows x 46 columns]"
      ]
     },
     "execution_count": 112,
     "metadata": {},
     "output_type": "execute_result"
    }
   ],
   "source": [
    "validatadata"
   ]
  },
  {
   "cell_type": "code",
   "execution_count": 16,
   "id": "3e87ea1c",
   "metadata": {},
   "outputs": [
    {
     "data": {
      "text/plain": [
       "0"
      ]
     },
     "execution_count": 16,
     "metadata": {},
     "output_type": "execute_result"
    }
   ],
   "source": [
    "extra = set(extra) - set(list(validatadata['mask_path']))\n",
    "len(extra)"
   ]
  },
  {
   "cell_type": "code",
   "execution_count": 119,
   "id": "f949e7b9",
   "metadata": {},
   "outputs": [
    {
     "name": "stderr",
     "output_type": "stream",
     "text": [
      "139it [00:00, 5886.71it/s]\n"
     ]
    }
   ],
   "source": [
    "import shutil\n",
    "for i, row in tqdm(testdata.iterrows()):\n",
    "    pose = row['pose_path']\n",
    "    mask = row['mask_path']\n",
    "    \n",
    "    shutil.copy(mask,pose)\n",
    "    "
   ]
  },
  {
   "cell_type": "code",
   "execution_count": 52,
   "id": "42a63b86",
   "metadata": {},
   "outputs": [],
   "source": [
    "for i in extra:\n",
    "    os.remove(i)"
   ]
  },
  {
   "cell_type": "code",
   "execution_count": null,
   "id": "448975fa",
   "metadata": {},
   "outputs": [],
   "source": [
    "from PIL import Image\n",
    "import os\n",
    "from tqdm import tqdm"
   ]
  },
  {
   "cell_type": "code",
   "execution_count": null,
   "id": "9828616e",
   "metadata": {},
   "outputs": [],
   "source": [
    "\n",
    "for i, row in tqdm(testdata.iterrows()):\n",
    "    path = row['pose_path']\n",
    "    jpegpath = '/home/kyra/Desktop/Data/Jaguar/Masked/24/' + os.path.splitext(os.path.basename(path))[0] + '.jpg'\n",
    "    \n",
    "\n",
    "    im1 = Image.open(path)\n",
    "    rgb_im = im1.convert('RGB')\n",
    "    rgb_im.save(jpegpath)\n"
   ]
  }
 ],
 "metadata": {
  "kernelspec": {
   "display_name": "Python 3 (ipykernel)",
   "language": "python",
   "name": "python3"
  },
  "language_info": {
   "codemirror_mode": {
    "name": "ipython",
    "version": 3
   },
   "file_extension": ".py",
   "mimetype": "text/x-python",
   "name": "python",
   "nbconvert_exporter": "python",
   "pygments_lexer": "ipython3",
   "version": "3.10.6"
  }
 },
 "nbformat": 4,
 "nbformat_minor": 5
}
