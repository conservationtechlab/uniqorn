{
 "cells": [
  {
   "cell_type": "code",
   "execution_count": 1,
   "id": "1486d7f1",
   "metadata": {},
   "outputs": [],
   "source": [
    "import pandas as pd\n",
    "import numpy as np"
   ]
  },
  {
   "cell_type": "code",
   "execution_count": 2,
   "id": "c8d6ee2f",
   "metadata": {},
   "outputs": [],
   "source": [
    "trainingdata = pd.read_csv(\"/home/kyra/Desktop/Data/Jaguar/validate.csv\")"
   ]
  },
  {
   "cell_type": "code",
   "execution_count": 3,
   "id": "85ebd458",
   "metadata": {},
   "outputs": [],
   "source": [
    "trainingdata[\"local_path\"] = trainingdata[\"image_path\"].str.replace('S:/Camera Base MT/','/home/kyra/Desktop/Data/Jaguar/')\n"
   ]
  },
  {
   "cell_type": "code",
   "execution_count": 4,
   "id": "a2d22daa",
   "metadata": {
    "scrolled": true
   },
   "outputs": [
    {
     "data": {
      "text/plain": [
       "0      /home/kyra/Desktop/Data/Jaguar/Images/14/SDZG ...\n",
       "1      /home/kyra/Desktop/Data/Jaguar/Images/14/SDZG ...\n",
       "2      /home/kyra/Desktop/Data/Jaguar/Images/14/SDZG ...\n",
       "3      /home/kyra/Desktop/Data/Jaguar/Images/14/SDZG ...\n",
       "4      /home/kyra/Desktop/Data/Jaguar/Images/14/SDZG ...\n",
       "                             ...                        \n",
       "103    /home/kyra/Desktop/Data/Jaguar/Images/4/Areas ...\n",
       "104    /home/kyra/Desktop/Data/Jaguar/Images/4/Areas ...\n",
       "105    /home/kyra/Desktop/Data/Jaguar/Images/4/Areas ...\n",
       "106    /home/kyra/Desktop/Data/Jaguar/Images/4/Areas ...\n",
       "107    /home/kyra/Desktop/Data/Jaguar/Images/4/Areas ...\n",
       "Name: local_path, Length: 108, dtype: object"
      ]
     },
     "execution_count": 4,
     "metadata": {},
     "output_type": "execute_result"
    }
   ],
   "source": [
    "trainingdata[\"local_path\"]"
   ]
  },
  {
   "cell_type": "code",
   "execution_count": 5,
   "id": "8640ba75",
   "metadata": {},
   "outputs": [],
   "source": [
    "import cv2\n",
    "\n",
    "trainingdata['height'] = 0\n",
    "trainingdata['width'] = 0\n",
    "\n",
    "for i,row in trainingdata.iterrows():\n",
    "    im = cv2.imread(row['local_path'])\n",
    "    trainingdata.loc[i,'height'] = im.shape[0]\n",
    "    trainingdata.loc[i,'width'] = im.shape[1]\n"
   ]
  },
  {
   "cell_type": "code",
   "execution_count": 6,
   "id": "a286950a",
   "metadata": {},
   "outputs": [],
   "source": [
    "trainingdata.to_csv(\"/home/kyra/Desktop/Data/Jaguar/validate.csv\")"
   ]
  },
  {
   "cell_type": "code",
   "execution_count": null,
   "id": "5e76a069",
   "metadata": {},
   "outputs": [],
   "source": [
    "for i in range(1,28):\n",
    "    os.mkdir('/home/kyra/Desktop/Data/Jaguar/Masked/' + str(i) + '/')"
   ]
  },
  {
   "cell_type": "code",
   "execution_count": 1,
   "id": "cdef5f50",
   "metadata": {},
   "outputs": [
    {
     "ename": "ModuleNotFoundError",
     "evalue": "No module named 'preprocess_utils'",
     "output_type": "error",
     "traceback": [
      "\u001b[0;31m---------------------------------------------------------------------------\u001b[0m",
      "\u001b[0;31mModuleNotFoundError\u001b[0m                       Traceback (most recent call last)",
      "Cell \u001b[0;32mIn[1], line 1\u001b[0m\n\u001b[0;32m----> 1\u001b[0m \u001b[38;5;28;01mimport\u001b[39;00m \u001b[38;5;21;01mpreprocess_utils\u001b[39;00m\n",
      "\u001b[0;31mModuleNotFoundError\u001b[0m: No module named 'preprocess_utils'"
     ]
    }
   ],
   "source": []
  },
  {
   "cell_type": "code",
   "execution_count": null,
   "id": "ca9d4884",
   "metadata": {},
   "outputs": [],
   "source": []
  }
 ],
 "metadata": {
  "kernelspec": {
   "display_name": "Python 3 (ipykernel)",
   "language": "python",
   "name": "python3"
  },
  "language_info": {
   "codemirror_mode": {
    "name": "ipython",
    "version": 3
   },
   "file_extension": ".py",
   "mimetype": "text/x-python",
   "name": "python",
   "nbconvert_exporter": "python",
   "pygments_lexer": "ipython3",
   "version": "3.10.6"
  }
 },
 "nbformat": 4,
 "nbformat_minor": 5
}
